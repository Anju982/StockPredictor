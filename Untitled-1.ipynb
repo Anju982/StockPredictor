{
 "cells": [
  {
   "cell_type": "code",
   "execution_count": 26,
   "metadata": {},
   "outputs": [
    {
     "name": "stdout",
     "output_type": "stream",
     "text": [
      "[*********************100%%**********************]  1 of 1 completed\n",
      "                    Open          High           Low         Close  \\\n",
      "Date                                                                 \n",
      "2014-09-17    465.864014    468.174011    452.421997    457.334015   \n",
      "2014-09-18    456.859985    456.859985    413.104004    424.440002   \n",
      "2014-09-19    424.102997    427.834991    384.532013    394.795990   \n",
      "2014-09-20    394.673004    423.295990    389.882996    408.903992   \n",
      "2014-09-21    408.084991    412.425995    393.181000    398.821014   \n",
      "...                  ...           ...           ...           ...   \n",
      "2023-11-28  37247.992188  38368.480469  36891.089844  37831.085938   \n",
      "2023-11-29  37826.105469  38366.113281  37612.632812  37858.492188   \n",
      "2023-11-30  37861.117188  38141.753906  37531.140625  37712.746094   \n",
      "2023-12-01  37718.007812  38954.109375  37629.359375  38688.750000   \n",
      "2023-12-02  38689.277344  38820.035156  38663.660156  38759.281250   \n",
      "\n",
      "               Adj Close       Volume  \n",
      "Date                                   \n",
      "2014-09-17    457.334015     21056800  \n",
      "2014-09-18    424.440002     34483200  \n",
      "2014-09-19    394.795990     37919700  \n",
      "2014-09-20    408.903992     36863600  \n",
      "2014-09-21    398.821014     26580100  \n",
      "...                  ...          ...  \n",
      "2023-11-28  37831.085938  21696137014  \n",
      "2023-11-29  37858.492188  20728546658  \n",
      "2023-11-30  37712.746094  18115982627  \n",
      "2023-12-01  38688.750000  23512784002  \n",
      "2023-12-02  38759.281250  19898148864  \n",
      "\n",
      "[3364 rows x 6 columns]\n"
     ]
    }
   ],
   "source": [
    "import yfinance as yf\n",
    "\n",
    "# Ensure the ticker symbol is correct\n",
    "ticker_symbol = 'BTC-USD'\n",
    "\n",
    "try:\n",
    "    data = yf.download(ticker_symbol)\n",
    "    print(data)\n",
    "except Exception as e:\n",
    "    print(f\"An error occurred: {e}\")"
   ]
  },
  {
   "cell_type": "code",
   "execution_count": 27,
   "metadata": {},
   "outputs": [
    {
     "ename": "HTTPError",
     "evalue": "404 Client Error: Not Found for url: https://query2.finance.yahoo.com/v10/finance/quoteSummary/BTC_USD?modules=financialData%2CquoteType%2CdefaultKeyStatistics%2CassetProfile%2CsummaryDetail&ssl=true&crumb=Q6kdBguuV5f",
     "output_type": "error",
     "traceback": [
      "\u001b[0;31m---------------------------------------------------------------------------\u001b[0m",
      "\u001b[0;31mHTTPError\u001b[0m                                 Traceback (most recent call last)",
      "\u001b[1;32mUntitled-1.ipynb Cell 2\u001b[0m line \u001b[0;36m1\n\u001b[0;32m----> <a href='vscode-notebook-cell:Untitled-1.ipynb?jupyter-notebook#W1sdW50aXRsZWQ%3D?line=0'>1</a>\u001b[0m yf\u001b[39m.\u001b[39;49mTicker(\u001b[39m'\u001b[39;49m\u001b[39mBTC_USD\u001b[39;49m\u001b[39m'\u001b[39;49m)\u001b[39m.\u001b[39;49minfo\n",
      "File \u001b[0;32m~/Anjana_Urulugastenna/environment/vs_code/vscodevenv/lib/python3.10/site-packages/yfinance/ticker.py:142\u001b[0m, in \u001b[0;36mTicker.info\u001b[0;34m(self)\u001b[0m\n\u001b[1;32m    140\u001b[0m \u001b[39m@property\u001b[39m\n\u001b[1;32m    141\u001b[0m \u001b[39mdef\u001b[39;00m \u001b[39minfo\u001b[39m(\u001b[39mself\u001b[39m) \u001b[39m-\u001b[39m\u001b[39m>\u001b[39m \u001b[39mdict\u001b[39m:\n\u001b[0;32m--> 142\u001b[0m     \u001b[39mreturn\u001b[39;00m \u001b[39mself\u001b[39;49m\u001b[39m.\u001b[39;49mget_info()\n",
      "File \u001b[0;32m~/Anjana_Urulugastenna/environment/vs_code/vscodevenv/lib/python3.10/site-packages/yfinance/base.py:1736\u001b[0m, in \u001b[0;36mTickerBase.get_info\u001b[0;34m(self, proxy)\u001b[0m\n\u001b[1;32m   1734\u001b[0m \u001b[39mdef\u001b[39;00m \u001b[39mget_info\u001b[39m(\u001b[39mself\u001b[39m, proxy\u001b[39m=\u001b[39m\u001b[39mNone\u001b[39;00m) \u001b[39m-\u001b[39m\u001b[39m>\u001b[39m \u001b[39mdict\u001b[39m:\n\u001b[1;32m   1735\u001b[0m     \u001b[39mself\u001b[39m\u001b[39m.\u001b[39m_quote\u001b[39m.\u001b[39mproxy \u001b[39m=\u001b[39m proxy\n\u001b[0;32m-> 1736\u001b[0m     data \u001b[39m=\u001b[39m \u001b[39mself\u001b[39;49m\u001b[39m.\u001b[39;49m_quote\u001b[39m.\u001b[39;49minfo\n\u001b[1;32m   1737\u001b[0m     \u001b[39mreturn\u001b[39;00m data\n",
      "File \u001b[0;32m~/Anjana_Urulugastenna/environment/vs_code/vscodevenv/lib/python3.10/site-packages/yfinance/scrapers/quote.py:572\u001b[0m, in \u001b[0;36mQuote.info\u001b[0;34m(self)\u001b[0m\n\u001b[1;32m    569\u001b[0m \u001b[39m@property\u001b[39m\n\u001b[1;32m    570\u001b[0m \u001b[39mdef\u001b[39;00m \u001b[39minfo\u001b[39m(\u001b[39mself\u001b[39m) \u001b[39m-\u001b[39m\u001b[39m>\u001b[39m \u001b[39mdict\u001b[39m:\n\u001b[1;32m    571\u001b[0m     \u001b[39mif\u001b[39;00m \u001b[39mself\u001b[39m\u001b[39m.\u001b[39m_info \u001b[39mis\u001b[39;00m \u001b[39mNone\u001b[39;00m:\n\u001b[0;32m--> 572\u001b[0m         \u001b[39mself\u001b[39;49m\u001b[39m.\u001b[39;49m_fetch(\u001b[39mself\u001b[39;49m\u001b[39m.\u001b[39;49mproxy)\n\u001b[1;32m    573\u001b[0m         \u001b[39mself\u001b[39m\u001b[39m.\u001b[39m_fetch_complementary(\u001b[39mself\u001b[39m\u001b[39m.\u001b[39mproxy)\n\u001b[1;32m    575\u001b[0m     \u001b[39mreturn\u001b[39;00m \u001b[39mself\u001b[39m\u001b[39m.\u001b[39m_info\n",
      "File \u001b[0;32m~/Anjana_Urulugastenna/environment/vs_code/vscodevenv/lib/python3.10/site-packages/yfinance/scrapers/quote.py:602\u001b[0m, in \u001b[0;36mQuote._fetch\u001b[0;34m(self, proxy)\u001b[0m\n\u001b[1;32m    600\u001b[0m modules \u001b[39m=\u001b[39m \u001b[39m'\u001b[39m\u001b[39m,\u001b[39m\u001b[39m'\u001b[39m\u001b[39m.\u001b[39mjoin(modules)\n\u001b[1;32m    601\u001b[0m params_dict \u001b[39m=\u001b[39m {\u001b[39m\"\u001b[39m\u001b[39mmodules\u001b[39m\u001b[39m\"\u001b[39m: modules, \u001b[39m\"\u001b[39m\u001b[39mssl\u001b[39m\u001b[39m\"\u001b[39m: \u001b[39m\"\u001b[39m\u001b[39mtrue\u001b[39m\u001b[39m\"\u001b[39m}\n\u001b[0;32m--> 602\u001b[0m result \u001b[39m=\u001b[39m \u001b[39mself\u001b[39;49m\u001b[39m.\u001b[39;49m_data\u001b[39m.\u001b[39;49mget_raw_json(\n\u001b[1;32m    603\u001b[0m     _BASIC_URL_ \u001b[39m+\u001b[39;49m \u001b[39mf\u001b[39;49m\u001b[39m\"\u001b[39;49m\u001b[39m/\u001b[39;49m\u001b[39m{\u001b[39;49;00m\u001b[39mself\u001b[39;49m\u001b[39m.\u001b[39;49m_symbol\u001b[39m}\u001b[39;49;00m\u001b[39m\"\u001b[39;49m, params\u001b[39m=\u001b[39;49mparams_dict, proxy\u001b[39m=\u001b[39;49mproxy\n\u001b[1;32m    604\u001b[0m )\n\u001b[1;32m    605\u001b[0m result[\u001b[39m\"\u001b[39m\u001b[39mquoteSummary\u001b[39m\u001b[39m\"\u001b[39m][\u001b[39m\"\u001b[39m\u001b[39mresult\u001b[39m\u001b[39m\"\u001b[39m][\u001b[39m0\u001b[39m][\u001b[39m\"\u001b[39m\u001b[39msymbol\u001b[39m\u001b[39m\"\u001b[39m] \u001b[39m=\u001b[39m \u001b[39mself\u001b[39m\u001b[39m.\u001b[39m_symbol\n\u001b[1;32m    606\u001b[0m query1_info \u001b[39m=\u001b[39m \u001b[39mnext\u001b[39m(\n\u001b[1;32m    607\u001b[0m     (info \u001b[39mfor\u001b[39;00m info \u001b[39min\u001b[39;00m result\u001b[39m.\u001b[39mget(\u001b[39m\"\u001b[39m\u001b[39mquoteSummary\u001b[39m\u001b[39m\"\u001b[39m, {})\u001b[39m.\u001b[39mget(\u001b[39m\"\u001b[39m\u001b[39mresult\u001b[39m\u001b[39m\"\u001b[39m, []) \u001b[39mif\u001b[39;00m info[\u001b[39m\"\u001b[39m\u001b[39msymbol\u001b[39m\u001b[39m\"\u001b[39m] \u001b[39m==\u001b[39m \u001b[39mself\u001b[39m\u001b[39m.\u001b[39m_symbol),\n\u001b[1;32m    608\u001b[0m     \u001b[39mNone\u001b[39;00m,\n\u001b[1;32m    609\u001b[0m )\n",
      "File \u001b[0;32m~/Anjana_Urulugastenna/environment/vs_code/vscodevenv/lib/python3.10/site-packages/yfinance/data.py:396\u001b[0m, in \u001b[0;36mYfData.get_raw_json\u001b[0;34m(self, url, user_agent_headers, params, proxy, timeout)\u001b[0m\n\u001b[1;32m    394\u001b[0m utils\u001b[39m.\u001b[39mget_yf_logger()\u001b[39m.\u001b[39mdebug(\u001b[39mf\u001b[39m\u001b[39m'\u001b[39m\u001b[39mget_raw_json(): \u001b[39m\u001b[39m{\u001b[39;00murl\u001b[39m}\u001b[39;00m\u001b[39m'\u001b[39m)\n\u001b[1;32m    395\u001b[0m response \u001b[39m=\u001b[39m \u001b[39mself\u001b[39m\u001b[39m.\u001b[39mget(url, user_agent_headers\u001b[39m=\u001b[39muser_agent_headers, params\u001b[39m=\u001b[39mparams, proxy\u001b[39m=\u001b[39mproxy, timeout\u001b[39m=\u001b[39mtimeout)\n\u001b[0;32m--> 396\u001b[0m response\u001b[39m.\u001b[39;49mraise_for_status()\n\u001b[1;32m    397\u001b[0m \u001b[39mreturn\u001b[39;00m response\u001b[39m.\u001b[39mjson()\n",
      "File \u001b[0;32m~/Anjana_Urulugastenna/environment/vs_code/vscodevenv/lib/python3.10/site-packages/requests/models.py:1021\u001b[0m, in \u001b[0;36mResponse.raise_for_status\u001b[0;34m(self)\u001b[0m\n\u001b[1;32m   1016\u001b[0m     http_error_msg \u001b[39m=\u001b[39m (\n\u001b[1;32m   1017\u001b[0m         \u001b[39mf\u001b[39m\u001b[39m\"\u001b[39m\u001b[39m{\u001b[39;00m\u001b[39mself\u001b[39m\u001b[39m.\u001b[39mstatus_code\u001b[39m}\u001b[39;00m\u001b[39m Server Error: \u001b[39m\u001b[39m{\u001b[39;00mreason\u001b[39m}\u001b[39;00m\u001b[39m for url: \u001b[39m\u001b[39m{\u001b[39;00m\u001b[39mself\u001b[39m\u001b[39m.\u001b[39murl\u001b[39m}\u001b[39;00m\u001b[39m\"\u001b[39m\n\u001b[1;32m   1018\u001b[0m     )\n\u001b[1;32m   1020\u001b[0m \u001b[39mif\u001b[39;00m http_error_msg:\n\u001b[0;32m-> 1021\u001b[0m     \u001b[39mraise\u001b[39;00m HTTPError(http_error_msg, response\u001b[39m=\u001b[39m\u001b[39mself\u001b[39m)\n",
      "\u001b[0;31mHTTPError\u001b[0m: 404 Client Error: Not Found for url: https://query2.finance.yahoo.com/v10/finance/quoteSummary/BTC_USD?modules=financialData%2CquoteType%2CdefaultKeyStatistics%2CassetProfile%2CsummaryDetail&ssl=true&crumb=Q6kdBguuV5f"
     ]
    }
   ],
   "source": [
    "yf.Ticker('BTC_USD').info"
   ]
  },
  {
   "cell_type": "code",
   "execution_count": 17,
   "metadata": {},
   "outputs": [
    {
     "data": {
      "text/plain": [
       "yfinance.Ticker object <JKHN0000.CM>"
      ]
     },
     "execution_count": 17,
     "metadata": {},
     "output_type": "execute_result"
    }
   ],
   "source": [
    "yf.Ticker('JKHN0000.CM')"
   ]
  },
  {
   "cell_type": "code",
   "execution_count": null,
   "metadata": {},
   "outputs": [],
   "source": []
  }
 ],
 "metadata": {
  "kernelspec": {
   "display_name": "vscodevenv",
   "language": "python",
   "name": "python3"
  },
  "language_info": {
   "codemirror_mode": {
    "name": "ipython",
    "version": 3
   },
   "file_extension": ".py",
   "mimetype": "text/x-python",
   "name": "python",
   "nbconvert_exporter": "python",
   "pygments_lexer": "ipython3",
   "version": "3.10.12"
  }
 },
 "nbformat": 4,
 "nbformat_minor": 2
}
